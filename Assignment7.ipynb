{
 "cells": [
  {
   "cell_type": "markdown",
   "id": "e4377ce6",
   "metadata": {},
   "source": [
    "## GGIS 527\n",
    "### Assignment 7 Applying Natural Language Processing (NLP) Tools to Facilitate GIS Programming\n",
    "In this assignment, you will learn how to leverage the state-of-the-art NLP tool, namely GPT models by OpenAI, to perform GIS tasks, such as code generation and mapping. You should have known ChatGPT, which can generate languages that make sense based on the context. Compared to natural languages, programming languages are even easier to the language models because of their strict grammar with little exception."
   ]
  },
  {
   "cell_type": "markdown",
   "id": "4641bc87",
   "metadata": {},
   "source": [
    "### Notebook Outline\n",
    "- [Introduction to Chapyter](#intro)\n",
    "- [Install Libraries](#libs)\n",
    "- [Chapyter Magic Functions](#chapyter_magic)\n",
    "- [Generating Maps without Coding](#maps)"
   ]
  },
  {
   "cell_type": "markdown",
   "id": "0c777c36",
   "metadata": {},
   "source": [
    "<a id='intro'></a>\n",
    "#### Introduction to Chapyter\n",
    "You will use a python library called Chapyter, which is a JupyterLab extension that seamlessly connects GPT API to your coding environment. It features a code interpreter that can translate natural language description into Python code and automatically execute it. Incorporating powerful code generation models like GPT-4 into the notebook coding environment opens up new modes of human-AI collaboration. In addition, you will also use Chapyter to generate maps visualizing features in Chicago.\n",
    "\n",
    "To use Chapyter, OpenAI account and secret API key are required. All new users get free $5 worth of free tokens that will expire after 3 months. Links below show how to acquire your secret API key.\n",
    ">OpenAI account signup: https://platform.openai.com/\n",
    "<br>Find the secret API key: https://help.openai.com/en/articles/4936850-where-do-i-find-my-secret-api-key\n",
    "<br>OpenAI API: https://platform.openai.com/docs/introduction\n",
    "<br>Chapyter github: https://github.com/chapyter/chapyter\n"
   ]
  },
  {
   "cell_type": "markdown",
   "id": "51ed6715",
   "metadata": {},
   "source": [
    "<a id='libs'></a>\n",
    "#### Install Libraries"
   ]
  },
  {
   "cell_type": "code",
   "execution_count": 1,
   "id": "158b7366",
   "metadata": {},
   "outputs": [
    {
     "name": "stdout",
     "output_type": "stream",
     "text": [
      "Defaulting to user installation because normal site-packages is not writeable\n",
      "Requirement already satisfied: openai in /home/jovyan/.local/python3-0.9.0/lib/python3.8/site-packages (1.3.6)\n",
      "Requirement already satisfied: anyio<4,>=3.5.0 in /cvmfs/cybergis.illinois.edu/software/conda/cybergisx/python3-0.9.0/lib/python3.8/site-packages (from openai) (3.6.1)\n",
      "Requirement already satisfied: distro<2,>=1.7.0 in /home/jovyan/.local/python3-0.9.0/lib/python3.8/site-packages (from openai) (1.8.0)\n",
      "Requirement already satisfied: httpx<1,>=0.23.0 in /home/jovyan/.local/python3-0.9.0/lib/python3.8/site-packages (from openai) (0.25.2)\n",
      "Requirement already satisfied: pydantic<3,>=1.9.0 in /home/jovyan/.local/python3-0.9.0/lib/python3.8/site-packages (from openai) (2.5.2)\n",
      "Requirement already satisfied: sniffio in /cvmfs/cybergis.illinois.edu/software/conda/cybergisx/python3-0.9.0/lib/python3.8/site-packages (from openai) (1.2.0)\n",
      "Requirement already satisfied: tqdm>4 in /cvmfs/cybergis.illinois.edu/software/conda/cybergisx/python3-0.9.0/lib/python3.8/site-packages (from openai) (4.62.3)\n",
      "Requirement already satisfied: typing-extensions<5,>=4.5 in /home/jovyan/.local/python3-0.9.0/lib/python3.8/site-packages (from openai) (4.8.0)\n",
      "Requirement already satisfied: idna>=2.8 in /cvmfs/cybergis.illinois.edu/software/conda/cybergisx/python3-0.9.0/lib/python3.8/site-packages (from anyio<4,>=3.5.0->openai) (3.3)\n",
      "Requirement already satisfied: certifi in /cvmfs/cybergis.illinois.edu/software/conda/cybergisx/python3-0.9.0/lib/python3.8/site-packages (from httpx<1,>=0.23.0->openai) (2021.10.8)\n",
      "Requirement already satisfied: httpcore==1.* in /home/jovyan/.local/python3-0.9.0/lib/python3.8/site-packages (from httpx<1,>=0.23.0->openai) (1.0.2)\n",
      "Requirement already satisfied: h11<0.15,>=0.13 in /home/jovyan/.local/python3-0.9.0/lib/python3.8/site-packages (from httpcore==1.*->httpx<1,>=0.23.0->openai) (0.14.0)\n",
      "Requirement already satisfied: annotated-types>=0.4.0 in /home/jovyan/.local/python3-0.9.0/lib/python3.8/site-packages (from pydantic<3,>=1.9.0->openai) (0.6.0)\n",
      "Requirement already satisfied: pydantic-core==2.14.5 in /home/jovyan/.local/python3-0.9.0/lib/python3.8/site-packages (from pydantic<3,>=1.9.0->openai) (2.14.5)\n",
      "Defaulting to user installation because normal site-packages is not writeable\n",
      "Requirement already satisfied: chapyter in /home/jovyan/.local/python3-0.9.0/lib/python3.8/site-packages (0.3.1)\n",
      "Requirement already satisfied: guidance in /home/jovyan/.local/python3-0.9.0/lib/python3.8/site-packages (from chapyter) (0.1.4)\n",
      "Requirement already satisfied: jupyterlab>=4.0 in /home/jovyan/.local/python3-0.9.0/lib/python3.8/site-packages (from chapyter) (4.0.9)\n",
      "Requirement already satisfied: python-dotenv in /home/jovyan/.local/python3-0.9.0/lib/python3.8/site-packages (from chapyter) (1.0.0)\n",
      "Requirement already satisfied: async-lru>=1.0.0 in /home/jovyan/.local/python3-0.9.0/lib/python3.8/site-packages (from jupyterlab>=4.0->chapyter) (2.0.4)\n",
      "Requirement already satisfied: importlib-metadata>=4.8.3 in /home/jovyan/.local/python3-0.9.0/lib/python3.8/site-packages (from jupyterlab>=4.0->chapyter) (6.8.0)\n",
      "Requirement already satisfied: importlib-resources>=1.4 in /cvmfs/cybergis.illinois.edu/software/conda/cybergisx/python3-0.9.0/lib/python3.8/site-packages (from jupyterlab>=4.0->chapyter) (5.4.0)\n",
      "Requirement already satisfied: ipykernel in /cvmfs/cybergis.illinois.edu/software/conda/cybergisx/python3-0.9.0/lib/python3.8/site-packages (from jupyterlab>=4.0->chapyter) (6.7.0)\n",
      "Requirement already satisfied: jinja2>=3.0.3 in /cvmfs/cybergis.illinois.edu/software/conda/cybergisx/python3-0.9.0/lib/python3.8/site-packages (from jupyterlab>=4.0->chapyter) (3.0.3)\n",
      "Requirement already satisfied: jupyter-core in /home/jovyan/.local/python3-0.9.0/lib/python3.8/site-packages (from jupyterlab>=4.0->chapyter) (5.5.0)\n",
      "Requirement already satisfied: jupyter-lsp>=2.0.0 in /home/jovyan/.local/python3-0.9.0/lib/python3.8/site-packages (from jupyterlab>=4.0->chapyter) (2.2.1)\n",
      "Requirement already satisfied: jupyter-server<3,>=2.4.0 in /home/jovyan/.local/python3-0.9.0/lib/python3.8/site-packages (from jupyterlab>=4.0->chapyter) (2.11.1)\n",
      "Requirement already satisfied: jupyterlab-server<3,>=2.19.0 in /home/jovyan/.local/python3-0.9.0/lib/python3.8/site-packages (from jupyterlab>=4.0->chapyter) (2.25.2)\n",
      "Requirement already satisfied: notebook-shim>=0.2 in /home/jovyan/.local/python3-0.9.0/lib/python3.8/site-packages (from jupyterlab>=4.0->chapyter) (0.2.3)\n",
      "Requirement already satisfied: packaging in /cvmfs/cybergis.illinois.edu/software/conda/cybergisx/python3-0.9.0/lib/python3.8/site-packages (from jupyterlab>=4.0->chapyter) (21.3)\n",
      "Requirement already satisfied: tomli in /cvmfs/cybergis.illinois.edu/software/conda/cybergisx/python3-0.9.0/lib/python3.8/site-packages (from jupyterlab>=4.0->chapyter) (1.2.2)\n",
      "Requirement already satisfied: tornado>=6.2.0 in /home/jovyan/.local/python3-0.9.0/lib/python3.8/site-packages (from jupyterlab>=4.0->chapyter) (6.4)\n",
      "Requirement already satisfied: traitlets in /home/jovyan/.local/python3-0.9.0/lib/python3.8/site-packages (from jupyterlab>=4.0->chapyter) (5.14.0)\n",
      "Requirement already satisfied: diskcache in /home/jovyan/.local/python3-0.9.0/lib/python3.8/site-packages (from guidance->chapyter) (5.6.3)\n",
      "Requirement already satisfied: gptcache in /home/jovyan/.local/python3-0.9.0/lib/python3.8/site-packages (from guidance->chapyter) (0.1.43)\n",
      "Requirement already satisfied: openai>=1.0 in /home/jovyan/.local/python3-0.9.0/lib/python3.8/site-packages (from guidance->chapyter) (1.3.6)\n",
      "Requirement already satisfied: platformdirs in /home/jovyan/.local/python3-0.9.0/lib/python3.8/site-packages (from guidance->chapyter) (4.0.0)\n",
      "Requirement already satisfied: tiktoken>=0.3 in /home/jovyan/.local/python3-0.9.0/lib/python3.8/site-packages (from guidance->chapyter) (0.5.1)\n",
      "Requirement already satisfied: nest-asyncio in /cvmfs/cybergis.illinois.edu/software/conda/cybergisx/python3-0.9.0/lib/python3.8/site-packages (from guidance->chapyter) (1.5.4)\n",
      "Requirement already satisfied: msal in /home/jovyan/.local/python3-0.9.0/lib/python3.8/site-packages (from guidance->chapyter) (1.25.0)\n",
      "Requirement already satisfied: requests in /home/jovyan/.local/python3-0.9.0/lib/python3.8/site-packages (from guidance->chapyter) (2.31.0)\n",
      "Requirement already satisfied: numpy in /cvmfs/cybergis.illinois.edu/software/conda/cybergisx/python3-0.9.0/lib/python3.8/site-packages (from guidance->chapyter) (1.22.0)\n",
      "Requirement already satisfied: scipy in /cvmfs/cybergis.illinois.edu/software/conda/cybergisx/python3-0.9.0/lib/python3.8/site-packages (from guidance->chapyter) (1.7.3)\n",
      "Requirement already satisfied: aiohttp in /cvmfs/cybergis.illinois.edu/software/conda/cybergisx/python3-0.9.0/lib/python3.8/site-packages (from guidance->chapyter) (3.8.1)\n",
      "Requirement already satisfied: ordered-set in /home/jovyan/.local/python3-0.9.0/lib/python3.8/site-packages (from guidance->chapyter) (4.1.0)\n",
      "Requirement already satisfied: pyformlang in /home/jovyan/.local/python3-0.9.0/lib/python3.8/site-packages (from guidance->chapyter) (1.0.4)\n",
      "Requirement already satisfied: typing-extensions>=4.0.0 in /home/jovyan/.local/python3-0.9.0/lib/python3.8/site-packages (from async-lru>=1.0.0->jupyterlab>=4.0->chapyter) (4.8.0)\n",
      "Requirement already satisfied: zipp>=0.5 in /cvmfs/cybergis.illinois.edu/software/conda/cybergisx/python3-0.9.0/lib/python3.8/site-packages (from importlib-metadata>=4.8.3->jupyterlab>=4.0->chapyter) (3.7.0)\n",
      "Requirement already satisfied: MarkupSafe>=2.0 in /cvmfs/cybergis.illinois.edu/software/conda/cybergisx/python3-0.9.0/lib/python3.8/site-packages (from jinja2>=3.0.3->jupyterlab>=4.0->chapyter) (2.0.1)\n",
      "Requirement already satisfied: anyio>=3.1.0 in /cvmfs/cybergis.illinois.edu/software/conda/cybergisx/python3-0.9.0/lib/python3.8/site-packages (from jupyter-server<3,>=2.4.0->jupyterlab>=4.0->chapyter) (3.6.1)\n",
      "Requirement already satisfied: argon2-cffi in /cvmfs/cybergis.illinois.edu/software/conda/cybergisx/python3-0.9.0/lib/python3.8/site-packages (from jupyter-server<3,>=2.4.0->jupyterlab>=4.0->chapyter) (21.3.0)\n",
      "Requirement already satisfied: jupyter-client>=7.4.4 in /home/jovyan/.local/python3-0.9.0/lib/python3.8/site-packages (from jupyter-server<3,>=2.4.0->jupyterlab>=4.0->chapyter) (7.4.9)\n",
      "Requirement already satisfied: jupyter-events>=0.9.0 in /home/jovyan/.local/python3-0.9.0/lib/python3.8/site-packages (from jupyter-server<3,>=2.4.0->jupyterlab>=4.0->chapyter) (0.9.0)\n",
      "Requirement already satisfied: jupyter-server-terminals in /home/jovyan/.local/python3-0.9.0/lib/python3.8/site-packages (from jupyter-server<3,>=2.4.0->jupyterlab>=4.0->chapyter) (0.4.4)\n",
      "Requirement already satisfied: nbconvert>=6.4.4 in /cvmfs/cybergis.illinois.edu/software/conda/cybergisx/python3-0.9.0/lib/python3.8/site-packages (from jupyter-server<3,>=2.4.0->jupyterlab>=4.0->chapyter) (7.0.0)\n",
      "Requirement already satisfied: nbformat>=5.3.0 in /cvmfs/cybergis.illinois.edu/software/conda/cybergisx/python3-0.9.0/lib/python3.8/site-packages (from jupyter-server<3,>=2.4.0->jupyterlab>=4.0->chapyter) (5.4.0)\n",
      "Requirement already satisfied: overrides in /home/jovyan/.local/python3-0.9.0/lib/python3.8/site-packages (from jupyter-server<3,>=2.4.0->jupyterlab>=4.0->chapyter) (7.4.0)\n",
      "Requirement already satisfied: prometheus-client in /cvmfs/cybergis.illinois.edu/software/conda/cybergisx/python3-0.9.0/lib/python3.8/site-packages (from jupyter-server<3,>=2.4.0->jupyterlab>=4.0->chapyter) (0.12.0)\n",
      "Requirement already satisfied: pyzmq>=24 in /home/jovyan/.local/python3-0.9.0/lib/python3.8/site-packages (from jupyter-server<3,>=2.4.0->jupyterlab>=4.0->chapyter) (25.1.1)\n",
      "Requirement already satisfied: send2trash>=1.8.2 in /home/jovyan/.local/python3-0.9.0/lib/python3.8/site-packages (from jupyter-server<3,>=2.4.0->jupyterlab>=4.0->chapyter) (1.8.2)\n",
      "Requirement already satisfied: terminado>=0.8.3 in /cvmfs/cybergis.illinois.edu/software/conda/cybergisx/python3-0.9.0/lib/python3.8/site-packages (from jupyter-server<3,>=2.4.0->jupyterlab>=4.0->chapyter) (0.12.1)\n",
      "Requirement already satisfied: websocket-client in /cvmfs/cybergis.illinois.edu/software/conda/cybergisx/python3-0.9.0/lib/python3.8/site-packages (from jupyter-server<3,>=2.4.0->jupyterlab>=4.0->chapyter) (1.4.0)\n",
      "Requirement already satisfied: babel>=2.10 in /home/jovyan/.local/python3-0.9.0/lib/python3.8/site-packages (from jupyterlab-server<3,>=2.19.0->jupyterlab>=4.0->chapyter) (2.13.1)\n",
      "Requirement already satisfied: json5>=0.9.0 in /home/jovyan/.local/python3-0.9.0/lib/python3.8/site-packages (from jupyterlab-server<3,>=2.19.0->jupyterlab>=4.0->chapyter) (0.9.14)\n",
      "Requirement already satisfied: jsonschema>=4.18.0 in /home/jovyan/.local/python3-0.9.0/lib/python3.8/site-packages (from jupyterlab-server<3,>=2.19.0->jupyterlab>=4.0->chapyter) (4.20.0)\n",
      "Requirement already satisfied: distro<2,>=1.7.0 in /home/jovyan/.local/python3-0.9.0/lib/python3.8/site-packages (from openai>=1.0->guidance->chapyter) (1.8.0)\n",
      "Requirement already satisfied: httpx<1,>=0.23.0 in /home/jovyan/.local/python3-0.9.0/lib/python3.8/site-packages (from openai>=1.0->guidance->chapyter) (0.25.2)\n",
      "Requirement already satisfied: pydantic<3,>=1.9.0 in /home/jovyan/.local/python3-0.9.0/lib/python3.8/site-packages (from openai>=1.0->guidance->chapyter) (2.5.2)\n",
      "Requirement already satisfied: sniffio in /cvmfs/cybergis.illinois.edu/software/conda/cybergisx/python3-0.9.0/lib/python3.8/site-packages (from openai>=1.0->guidance->chapyter) (1.2.0)\n",
      "Requirement already satisfied: tqdm>4 in /cvmfs/cybergis.illinois.edu/software/conda/cybergisx/python3-0.9.0/lib/python3.8/site-packages (from openai>=1.0->guidance->chapyter) (4.62.3)\n",
      "Requirement already satisfied: pyparsing!=3.0.5,>=2.0.2 in /cvmfs/cybergis.illinois.edu/software/conda/cybergisx/python3-0.9.0/lib/python3.8/site-packages (from packaging->jupyterlab>=4.0->chapyter) (3.0.7)\n",
      "Requirement already satisfied: charset-normalizer<4,>=2 in /cvmfs/cybergis.illinois.edu/software/conda/cybergisx/python3-0.9.0/lib/python3.8/site-packages (from requests->guidance->chapyter) (2.0.10)\n",
      "Requirement already satisfied: idna<4,>=2.5 in /cvmfs/cybergis.illinois.edu/software/conda/cybergisx/python3-0.9.0/lib/python3.8/site-packages (from requests->guidance->chapyter) (3.3)\n",
      "Requirement already satisfied: urllib3<3,>=1.21.1 in /cvmfs/cybergis.illinois.edu/software/conda/cybergisx/python3-0.9.0/lib/python3.8/site-packages (from requests->guidance->chapyter) (1.25.11)\n",
      "Requirement already satisfied: certifi>=2017.4.17 in /cvmfs/cybergis.illinois.edu/software/conda/cybergisx/python3-0.9.0/lib/python3.8/site-packages (from requests->guidance->chapyter) (2021.10.8)\n",
      "Requirement already satisfied: regex>=2022.1.18 in /home/jovyan/.local/python3-0.9.0/lib/python3.8/site-packages (from tiktoken>=0.3->guidance->chapyter) (2023.10.3)\n",
      "Requirement already satisfied: attrs>=17.3.0 in /home/jovyan/.local/python3-0.9.0/lib/python3.8/site-packages (from aiohttp->guidance->chapyter) (23.1.0)\n",
      "Requirement already satisfied: multidict<7.0,>=4.5 in /cvmfs/cybergis.illinois.edu/software/conda/cybergisx/python3-0.9.0/lib/python3.8/site-packages (from aiohttp->guidance->chapyter) (5.2.0)\n",
      "Requirement already satisfied: async-timeout<5.0,>=4.0.0a3 in /cvmfs/cybergis.illinois.edu/software/conda/cybergisx/python3-0.9.0/lib/python3.8/site-packages (from aiohttp->guidance->chapyter) (4.0.2)\n",
      "Requirement already satisfied: yarl<2.0,>=1.0 in /cvmfs/cybergis.illinois.edu/software/conda/cybergisx/python3-0.9.0/lib/python3.8/site-packages (from aiohttp->guidance->chapyter) (1.7.2)\n",
      "Requirement already satisfied: frozenlist>=1.1.1 in /cvmfs/cybergis.illinois.edu/software/conda/cybergisx/python3-0.9.0/lib/python3.8/site-packages (from aiohttp->guidance->chapyter) (1.2.0)\n",
      "Requirement already satisfied: aiosignal>=1.1.2 in /cvmfs/cybergis.illinois.edu/software/conda/cybergisx/python3-0.9.0/lib/python3.8/site-packages (from aiohttp->guidance->chapyter) (1.2.0)\n",
      "Requirement already satisfied: cachetools in /cvmfs/cybergis.illinois.edu/software/conda/cybergisx/python3-0.9.0/lib/python3.8/site-packages (from gptcache->guidance->chapyter) (4.2.4)\n",
      "Requirement already satisfied: debugpy<2.0,>=1.0.0 in /cvmfs/cybergis.illinois.edu/software/conda/cybergisx/python3-0.9.0/lib/python3.8/site-packages (from ipykernel->jupyterlab>=4.0->chapyter) (1.5.1)\n",
      "Requirement already satisfied: ipython>=7.23.1 in /cvmfs/cybergis.illinois.edu/software/conda/cybergisx/python3-0.9.0/lib/python3.8/site-packages (from ipykernel->jupyterlab>=4.0->chapyter) (8.3.0)\n",
      "Requirement already satisfied: matplotlib-inline<0.2.0,>=0.1.0 in /cvmfs/cybergis.illinois.edu/software/conda/cybergisx/python3-0.9.0/lib/python3.8/site-packages (from ipykernel->jupyterlab>=4.0->chapyter) (0.1.3)\n",
      "Requirement already satisfied: PyJWT<3,>=1.0.0 in /cvmfs/cybergis.illinois.edu/software/conda/cybergisx/python3-0.9.0/lib/python3.8/site-packages (from PyJWT[crypto]<3,>=1.0.0->msal->guidance->chapyter) (2.3.0)\n",
      "Requirement already satisfied: cryptography<44,>=0.6 in /cvmfs/cybergis.illinois.edu/software/conda/cybergisx/python3-0.9.0/lib/python3.8/site-packages (from msal->guidance->chapyter) (36.0.1)\n",
      "Requirement already satisfied: networkx in /cvmfs/cybergis.illinois.edu/software/conda/cybergisx/python3-0.9.0/lib/python3.8/site-packages (from pyformlang->guidance->chapyter) (2.6.3)\n",
      "Requirement already satisfied: pydot in /home/jovyan/.local/python3-0.9.0/lib/python3.8/site-packages (from pyformlang->guidance->chapyter) (1.4.2)\n",
      "Requirement already satisfied: pytz>=2015.7 in /cvmfs/cybergis.illinois.edu/software/conda/cybergisx/python3-0.9.0/lib/python3.8/site-packages (from babel>=2.10->jupyterlab-server<3,>=2.19.0->jupyterlab>=4.0->chapyter) (2021.3)\n",
      "Requirement already satisfied: cffi>=1.12 in /cvmfs/cybergis.illinois.edu/software/conda/cybergisx/python3-0.9.0/lib/python3.8/site-packages (from cryptography<44,>=0.6->msal->guidance->chapyter) (1.15.0)\n",
      "Requirement already satisfied: httpcore==1.* in /home/jovyan/.local/python3-0.9.0/lib/python3.8/site-packages (from httpx<1,>=0.23.0->openai>=1.0->guidance->chapyter) (1.0.2)\n",
      "Requirement already satisfied: h11<0.15,>=0.13 in /home/jovyan/.local/python3-0.9.0/lib/python3.8/site-packages (from httpcore==1.*->httpx<1,>=0.23.0->openai>=1.0->guidance->chapyter) (0.14.0)\n",
      "Requirement already satisfied: backcall in /cvmfs/cybergis.illinois.edu/software/conda/cybergisx/python3-0.9.0/lib/python3.8/site-packages (from ipython>=7.23.1->ipykernel->jupyterlab>=4.0->chapyter) (0.2.0)\n",
      "Requirement already satisfied: decorator in /cvmfs/cybergis.illinois.edu/software/conda/cybergisx/python3-0.9.0/lib/python3.8/site-packages (from ipython>=7.23.1->ipykernel->jupyterlab>=4.0->chapyter) (5.1.1)\n",
      "Requirement already satisfied: jedi>=0.16 in /cvmfs/cybergis.illinois.edu/software/conda/cybergisx/python3-0.9.0/lib/python3.8/site-packages (from ipython>=7.23.1->ipykernel->jupyterlab>=4.0->chapyter) (0.18.1)\n",
      "Requirement already satisfied: pickleshare in /cvmfs/cybergis.illinois.edu/software/conda/cybergisx/python3-0.9.0/lib/python3.8/site-packages (from ipython>=7.23.1->ipykernel->jupyterlab>=4.0->chapyter) (0.7.5)\n",
      "Requirement already satisfied: prompt-toolkit!=3.0.0,!=3.0.1,<3.1.0,>=2.0.0 in /cvmfs/cybergis.illinois.edu/software/conda/cybergisx/python3-0.9.0/lib/python3.8/site-packages (from ipython>=7.23.1->ipykernel->jupyterlab>=4.0->chapyter) (3.0.24)\n",
      "Requirement already satisfied: pygments>=2.4.0 in /cvmfs/cybergis.illinois.edu/software/conda/cybergisx/python3-0.9.0/lib/python3.8/site-packages (from ipython>=7.23.1->ipykernel->jupyterlab>=4.0->chapyter) (2.11.2)\n",
      "Requirement already satisfied: setuptools>=18.5 in /home/jovyan/.local/python3-0.9.0/lib/python3.8/site-packages (from ipython>=7.23.1->ipykernel->jupyterlab>=4.0->chapyter) (69.0.2)\n",
      "Requirement already satisfied: stack-data in /cvmfs/cybergis.illinois.edu/software/conda/cybergisx/python3-0.9.0/lib/python3.8/site-packages (from ipython>=7.23.1->ipykernel->jupyterlab>=4.0->chapyter) (0.1.4)\n",
      "Requirement already satisfied: pexpect>4.3 in /cvmfs/cybergis.illinois.edu/software/conda/cybergisx/python3-0.9.0/lib/python3.8/site-packages (from ipython>=7.23.1->ipykernel->jupyterlab>=4.0->chapyter) (4.8.0)\n",
      "Requirement already satisfied: jsonschema-specifications>=2023.03.6 in /home/jovyan/.local/python3-0.9.0/lib/python3.8/site-packages (from jsonschema>=4.18.0->jupyterlab-server<3,>=2.19.0->jupyterlab>=4.0->chapyter) (2023.11.1)\n",
      "Requirement already satisfied: pkgutil-resolve-name>=1.3.10 in /home/jovyan/.local/python3-0.9.0/lib/python3.8/site-packages (from jsonschema>=4.18.0->jupyterlab-server<3,>=2.19.0->jupyterlab>=4.0->chapyter) (1.3.10)\n",
      "Requirement already satisfied: referencing>=0.28.4 in /home/jovyan/.local/python3-0.9.0/lib/python3.8/site-packages (from jsonschema>=4.18.0->jupyterlab-server<3,>=2.19.0->jupyterlab>=4.0->chapyter) (0.31.0)\n",
      "Requirement already satisfied: rpds-py>=0.7.1 in /home/jovyan/.local/python3-0.9.0/lib/python3.8/site-packages (from jsonschema>=4.18.0->jupyterlab-server<3,>=2.19.0->jupyterlab>=4.0->chapyter) (0.13.1)\n",
      "Requirement already satisfied: entrypoints in /cvmfs/cybergis.illinois.edu/software/conda/cybergisx/python3-0.9.0/lib/python3.8/site-packages (from jupyter-client>=7.4.4->jupyter-server<3,>=2.4.0->jupyterlab>=4.0->chapyter) (0.3)\n",
      "Requirement already satisfied: python-dateutil>=2.8.2 in /home/jovyan/.local/python3-0.9.0/lib/python3.8/site-packages (from jupyter-client>=7.4.4->jupyter-server<3,>=2.4.0->jupyterlab>=4.0->chapyter) (2.8.2)\n",
      "Requirement already satisfied: python-json-logger>=2.0.4 in /home/jovyan/.local/python3-0.9.0/lib/python3.8/site-packages (from jupyter-events>=0.9.0->jupyter-server<3,>=2.4.0->jupyterlab>=4.0->chapyter) (2.0.7)\n",
      "Requirement already satisfied: pyyaml>=5.3 in /cvmfs/cybergis.illinois.edu/software/conda/cybergisx/python3-0.9.0/lib/python3.8/site-packages (from jupyter-events>=0.9.0->jupyter-server<3,>=2.4.0->jupyterlab>=4.0->chapyter) (6.0)\n",
      "Requirement already satisfied: rfc3339-validator in /home/jovyan/.local/python3-0.9.0/lib/python3.8/site-packages (from jupyter-events>=0.9.0->jupyter-server<3,>=2.4.0->jupyterlab>=4.0->chapyter) (0.1.4)\n",
      "Requirement already satisfied: rfc3986-validator>=0.1.1 in /home/jovyan/.local/python3-0.9.0/lib/python3.8/site-packages (from jupyter-events>=0.9.0->jupyter-server<3,>=2.4.0->jupyterlab>=4.0->chapyter) (0.1.1)\n",
      "Requirement already satisfied: beautifulsoup4 in /cvmfs/cybergis.illinois.edu/software/conda/cybergisx/python3-0.9.0/lib/python3.8/site-packages (from nbconvert>=6.4.4->jupyter-server<3,>=2.4.0->jupyterlab>=4.0->chapyter) (4.10.0)\n",
      "Requirement already satisfied: bleach in /cvmfs/cybergis.illinois.edu/software/conda/cybergisx/python3-0.9.0/lib/python3.8/site-packages (from nbconvert>=6.4.4->jupyter-server<3,>=2.4.0->jupyterlab>=4.0->chapyter) (4.1.0)\n",
      "Requirement already satisfied: defusedxml in /cvmfs/cybergis.illinois.edu/software/conda/cybergisx/python3-0.9.0/lib/python3.8/site-packages (from nbconvert>=6.4.4->jupyter-server<3,>=2.4.0->jupyterlab>=4.0->chapyter) (0.7.1)\n",
      "Requirement already satisfied: jupyterlab-pygments in /cvmfs/cybergis.illinois.edu/software/conda/cybergisx/python3-0.9.0/lib/python3.8/site-packages (from nbconvert>=6.4.4->jupyter-server<3,>=2.4.0->jupyterlab>=4.0->chapyter) (0.1.2)\n",
      "Requirement already satisfied: lxml in /cvmfs/cybergis.illinois.edu/software/conda/cybergisx/python3-0.9.0/lib/python3.8/site-packages (from nbconvert>=6.4.4->jupyter-server<3,>=2.4.0->jupyterlab>=4.0->chapyter) (4.9.1)\n",
      "Requirement already satisfied: mistune<3,>=2.0.3 in /cvmfs/cybergis.illinois.edu/software/conda/cybergisx/python3-0.9.0/lib/python3.8/site-packages (from nbconvert>=6.4.4->jupyter-server<3,>=2.4.0->jupyterlab>=4.0->chapyter) (2.0.4)\n",
      "Requirement already satisfied: nbclient>=0.5.0 in /cvmfs/cybergis.illinois.edu/software/conda/cybergisx/python3-0.9.0/lib/python3.8/site-packages (from nbconvert>=6.4.4->jupyter-server<3,>=2.4.0->jupyterlab>=4.0->chapyter) (0.5.10)\n",
      "Requirement already satisfied: pandocfilters>=1.4.1 in /cvmfs/cybergis.illinois.edu/software/conda/cybergisx/python3-0.9.0/lib/python3.8/site-packages (from nbconvert>=6.4.4->jupyter-server<3,>=2.4.0->jupyterlab>=4.0->chapyter) (1.5.0)\n",
      "Requirement already satisfied: tinycss2 in /cvmfs/cybergis.illinois.edu/software/conda/cybergisx/python3-0.9.0/lib/python3.8/site-packages (from nbconvert>=6.4.4->jupyter-server<3,>=2.4.0->jupyterlab>=4.0->chapyter) (1.1.1)\n",
      "Requirement already satisfied: fastjsonschema in /cvmfs/cybergis.illinois.edu/software/conda/cybergisx/python3-0.9.0/lib/python3.8/site-packages (from nbformat>=5.3.0->jupyter-server<3,>=2.4.0->jupyterlab>=4.0->chapyter) (2.16.1)\n",
      "Requirement already satisfied: annotated-types>=0.4.0 in /home/jovyan/.local/python3-0.9.0/lib/python3.8/site-packages (from pydantic<3,>=1.9.0->openai>=1.0->guidance->chapyter) (0.6.0)\n",
      "Requirement already satisfied: pydantic-core==2.14.5 in /home/jovyan/.local/python3-0.9.0/lib/python3.8/site-packages (from pydantic<3,>=1.9.0->openai>=1.0->guidance->chapyter) (2.14.5)\n",
      "Requirement already satisfied: ptyprocess in /cvmfs/cybergis.illinois.edu/software/conda/cybergisx/python3-0.9.0/lib/python3.8/site-packages (from terminado>=0.8.3->jupyter-server<3,>=2.4.0->jupyterlab>=4.0->chapyter) (0.7.0)\n",
      "Requirement already satisfied: argon2-cffi-bindings in /cvmfs/cybergis.illinois.edu/software/conda/cybergisx/python3-0.9.0/lib/python3.8/site-packages (from argon2-cffi->jupyter-server<3,>=2.4.0->jupyterlab>=4.0->chapyter) (21.2.0)\n",
      "Requirement already satisfied: pycparser in /cvmfs/cybergis.illinois.edu/software/conda/cybergisx/python3-0.9.0/lib/python3.8/site-packages (from cffi>=1.12->cryptography<44,>=0.6->msal->guidance->chapyter) (2.21)\n",
      "Requirement already satisfied: parso<0.9.0,>=0.8.0 in /cvmfs/cybergis.illinois.edu/software/conda/cybergisx/python3-0.9.0/lib/python3.8/site-packages (from jedi>=0.16->ipython>=7.23.1->ipykernel->jupyterlab>=4.0->chapyter) (0.8.3)\n",
      "Requirement already satisfied: fqdn in /home/jovyan/.local/python3-0.9.0/lib/python3.8/site-packages (from jsonschema[format-nongpl]>=4.18.0->jupyter-events>=0.9.0->jupyter-server<3,>=2.4.0->jupyterlab>=4.0->chapyter) (1.5.1)\n",
      "Requirement already satisfied: isoduration in /home/jovyan/.local/python3-0.9.0/lib/python3.8/site-packages (from jsonschema[format-nongpl]>=4.18.0->jupyter-events>=0.9.0->jupyter-server<3,>=2.4.0->jupyterlab>=4.0->chapyter) (20.11.0)\n",
      "Requirement already satisfied: jsonpointer>1.13 in /home/jovyan/.local/python3-0.9.0/lib/python3.8/site-packages (from jsonschema[format-nongpl]>=4.18.0->jupyter-events>=0.9.0->jupyter-server<3,>=2.4.0->jupyterlab>=4.0->chapyter) (2.4)\n",
      "Requirement already satisfied: uri-template in /home/jovyan/.local/python3-0.9.0/lib/python3.8/site-packages (from jsonschema[format-nongpl]>=4.18.0->jupyter-events>=0.9.0->jupyter-server<3,>=2.4.0->jupyterlab>=4.0->chapyter) (1.3.0)\n",
      "Requirement already satisfied: webcolors>=1.11 in /home/jovyan/.local/python3-0.9.0/lib/python3.8/site-packages (from jsonschema[format-nongpl]>=4.18.0->jupyter-events>=0.9.0->jupyter-server<3,>=2.4.0->jupyterlab>=4.0->chapyter) (1.13)\n",
      "Requirement already satisfied: wcwidth in /cvmfs/cybergis.illinois.edu/software/conda/cybergisx/python3-0.9.0/lib/python3.8/site-packages (from prompt-toolkit!=3.0.0,!=3.0.1,<3.1.0,>=2.0.0->ipython>=7.23.1->ipykernel->jupyterlab>=4.0->chapyter) (0.2.5)\n",
      "Requirement already satisfied: six>=1.5 in /cvmfs/cybergis.illinois.edu/software/conda/cybergisx/python3-0.9.0/lib/python3.8/site-packages (from python-dateutil>=2.8.2->jupyter-client>=7.4.4->jupyter-server<3,>=2.4.0->jupyterlab>=4.0->chapyter) (1.16.0)\n",
      "Requirement already satisfied: soupsieve>1.2 in /cvmfs/cybergis.illinois.edu/software/conda/cybergisx/python3-0.9.0/lib/python3.8/site-packages (from beautifulsoup4->nbconvert>=6.4.4->jupyter-server<3,>=2.4.0->jupyterlab>=4.0->chapyter) (2.3.1)\n",
      "Requirement already satisfied: webencodings in /cvmfs/cybergis.illinois.edu/software/conda/cybergisx/python3-0.9.0/lib/python3.8/site-packages (from bleach->nbconvert>=6.4.4->jupyter-server<3,>=2.4.0->jupyterlab>=4.0->chapyter) (0.5.1)\n",
      "Requirement already satisfied: executing in /cvmfs/cybergis.illinois.edu/software/conda/cybergisx/python3-0.9.0/lib/python3.8/site-packages (from stack-data->ipython>=7.23.1->ipykernel->jupyterlab>=4.0->chapyter) (0.8.2)\n",
      "Requirement already satisfied: asttokens in /cvmfs/cybergis.illinois.edu/software/conda/cybergisx/python3-0.9.0/lib/python3.8/site-packages (from stack-data->ipython>=7.23.1->ipykernel->jupyterlab>=4.0->chapyter) (2.0.5)\n",
      "Requirement already satisfied: pure-eval in /cvmfs/cybergis.illinois.edu/software/conda/cybergisx/python3-0.9.0/lib/python3.8/site-packages (from stack-data->ipython>=7.23.1->ipykernel->jupyterlab>=4.0->chapyter) (0.2.1)\n",
      "Requirement already satisfied: arrow>=0.15.0 in /cvmfs/cybergis.illinois.edu/software/conda/cybergisx/python3-0.9.0/lib/python3.8/site-packages (from isoduration->jsonschema[format-nongpl]>=4.18.0->jupyter-events>=0.9.0->jupyter-server<3,>=2.4.0->jupyterlab>=4.0->chapyter) (1.2.1)\n"
     ]
    }
   ],
   "source": [
    "# install required libraries: chapyter require python verion >=3.8\n",
    "!pip install openai\n",
    "!pip install chapyter"
   ]
  },
  {
   "cell_type": "code",
   "execution_count": null,
   "id": "f112ba06-54ee-4441-88a9-8737aa06a290",
   "metadata": {},
   "outputs": [
    {
     "name": "stdout",
     "output_type": "stream",
     "text": [
      "Found existing installation: nbconvert 7.0.0\n",
      "Uninstalling nbconvert-7.0.0:\n",
      "  Would remove:\n",
      "    /cvmfs/cybergis.illinois.edu/software/conda/cybergisx/python3-0.9.0/bin/jupyter-dejavu\n",
      "    /cvmfs/cybergis.illinois.edu/software/conda/cybergisx/python3-0.9.0/bin/jupyter-nbconvert\n",
      "    /cvmfs/cybergis.illinois.edu/software/conda/cybergisx/python3-0.9.0/lib/python3.8/site-packages/nbconvert-7.0.0.dist-info/*\n",
      "    /cvmfs/cybergis.illinois.edu/software/conda/cybergisx/python3-0.9.0/lib/python3.8/site-packages/nbconvert/*\n",
      "    /cvmfs/cybergis.illinois.edu/software/conda/cybergisx/python3-0.9.0/share/jupyter/nbconvert/templates/asciidoc/conf.json\n",
      "    /cvmfs/cybergis.illinois.edu/software/conda/cybergisx/python3-0.9.0/share/jupyter/nbconvert/templates/asciidoc/index.asciidoc.j2\n",
      "    /cvmfs/cybergis.illinois.edu/software/conda/cybergisx/python3-0.9.0/share/jupyter/nbconvert/templates/base/celltags.j2\n",
      "    /cvmfs/cybergis.illinois.edu/software/conda/cybergisx/python3-0.9.0/share/jupyter/nbconvert/templates/base/display_priority.j2\n",
      "    /cvmfs/cybergis.illinois.edu/software/conda/cybergisx/python3-0.9.0/share/jupyter/nbconvert/templates/base/jupyter_widgets.html.j2\n",
      "    /cvmfs/cybergis.illinois.edu/software/conda/cybergisx/python3-0.9.0/share/jupyter/nbconvert/templates/base/mathjax.html.j2\n",
      "    /cvmfs/cybergis.illinois.edu/software/conda/cybergisx/python3-0.9.0/share/jupyter/nbconvert/templates/base/null.j2\n",
      "    /cvmfs/cybergis.illinois.edu/software/conda/cybergisx/python3-0.9.0/share/jupyter/nbconvert/templates/basic/conf.json\n",
      "    /cvmfs/cybergis.illinois.edu/software/conda/cybergisx/python3-0.9.0/share/jupyter/nbconvert/templates/basic/index.html.j2\n",
      "    /cvmfs/cybergis.illinois.edu/software/conda/cybergisx/python3-0.9.0/share/jupyter/nbconvert/templates/classic/base.html.j2\n",
      "    /cvmfs/cybergis.illinois.edu/software/conda/cybergisx/python3-0.9.0/share/jupyter/nbconvert/templates/classic/conf.json\n",
      "    /cvmfs/cybergis.illinois.edu/software/conda/cybergisx/python3-0.9.0/share/jupyter/nbconvert/templates/classic/index.html.j2\n",
      "    /cvmfs/cybergis.illinois.edu/software/conda/cybergisx/python3-0.9.0/share/jupyter/nbconvert/templates/classic/static/style.css\n",
      "    /cvmfs/cybergis.illinois.edu/software/conda/cybergisx/python3-0.9.0/share/jupyter/nbconvert/templates/compatibility/display_priority.tpl\n",
      "    /cvmfs/cybergis.illinois.edu/software/conda/cybergisx/python3-0.9.0/share/jupyter/nbconvert/templates/compatibility/full.tpl\n",
      "    /cvmfs/cybergis.illinois.edu/software/conda/cybergisx/python3-0.9.0/share/jupyter/nbconvert/templates/lab/base.html.j2\n",
      "    /cvmfs/cybergis.illinois.edu/software/conda/cybergisx/python3-0.9.0/share/jupyter/nbconvert/templates/lab/conf.json\n",
      "    /cvmfs/cybergis.illinois.edu/software/conda/cybergisx/python3-0.9.0/share/jupyter/nbconvert/templates/lab/index.html.j2\n",
      "    /cvmfs/cybergis.illinois.edu/software/conda/cybergisx/python3-0.9.0/share/jupyter/nbconvert/templates/lab/static/index.css\n",
      "    /cvmfs/cybergis.illinois.edu/software/conda/cybergisx/python3-0.9.0/share/jupyter/nbconvert/templates/lab/static/theme-dark.css\n",
      "    /cvmfs/cybergis.illinois.edu/software/conda/cybergisx/python3-0.9.0/share/jupyter/nbconvert/templates/lab/static/theme-light.css\n",
      "    /cvmfs/cybergis.illinois.edu/software/conda/cybergisx/python3-0.9.0/share/jupyter/nbconvert/templates/latex/base.tex.j2\n",
      "    /cvmfs/cybergis.illinois.edu/software/conda/cybergisx/python3-0.9.0/share/jupyter/nbconvert/templates/latex/conf.json\n",
      "    /cvmfs/cybergis.illinois.edu/software/conda/cybergisx/python3-0.9.0/share/jupyter/nbconvert/templates/latex/display_priority.j2\n",
      "    /cvmfs/cybergis.illinois.edu/software/conda/cybergisx/python3-0.9.0/share/jupyter/nbconvert/templates/latex/document_contents.tex.j2\n",
      "    /cvmfs/cybergis.illinois.edu/software/conda/cybergisx/python3-0.9.0/share/jupyter/nbconvert/templates/latex/index.tex.j2\n",
      "    /cvmfs/cybergis.illinois.edu/software/conda/cybergisx/python3-0.9.0/share/jupyter/nbconvert/templates/latex/null.j2\n",
      "    /cvmfs/cybergis.illinois.edu/software/conda/cybergisx/python3-0.9.0/share/jupyter/nbconvert/templates/latex/report.tex.j2\n",
      "    /cvmfs/cybergis.illinois.edu/software/conda/cybergisx/python3-0.9.0/share/jupyter/nbconvert/templates/latex/style_bw_ipython.tex.j2\n",
      "    /cvmfs/cybergis.illinois.edu/software/conda/cybergisx/python3-0.9.0/share/jupyter/nbconvert/templates/latex/style_bw_python.tex.j2\n",
      "    /cvmfs/cybergis.illinois.edu/software/conda/cybergisx/python3-0.9.0/share/jupyter/nbconvert/templates/latex/style_ipython.tex.j2\n",
      "    /cvmfs/cybergis.illinois.edu/software/conda/cybergisx/python3-0.9.0/share/jupyter/nbconvert/templates/latex/style_jupyter.tex.j2\n",
      "    /cvmfs/cybergis.illinois.edu/software/conda/cybergisx/python3-0.9.0/share/jupyter/nbconvert/templates/latex/style_python.tex.j2\n",
      "    /cvmfs/cybergis.illinois.edu/software/conda/cybergisx/python3-0.9.0/share/jupyter/nbconvert/templates/markdown/conf.json\n",
      "    /cvmfs/cybergis.illinois.edu/software/conda/cybergisx/python3-0.9.0/share/jupyter/nbconvert/templates/markdown/index.md.j2\n",
      "    /cvmfs/cybergis.illinois.edu/software/conda/cybergisx/python3-0.9.0/share/jupyter/nbconvert/templates/python/conf.json\n",
      "    /cvmfs/cybergis.illinois.edu/software/conda/cybergisx/python3-0.9.0/share/jupyter/nbconvert/templates/python/index.py.j2\n",
      "    /cvmfs/cybergis.illinois.edu/software/conda/cybergisx/python3-0.9.0/share/jupyter/nbconvert/templates/reveal/base.html.j2\n",
      "    /cvmfs/cybergis.illinois.edu/software/conda/cybergisx/python3-0.9.0/share/jupyter/nbconvert/templates/reveal/conf.json\n",
      "    /cvmfs/cybergis.illinois.edu/software/conda/cybergisx/python3-0.9.0/share/jupyter/nbconvert/templates/reveal/index.html.j2\n",
      "    /cvmfs/cybergis.illinois.edu/software/conda/cybergisx/python3-0.9.0/share/jupyter/nbconvert/templates/reveal/static/custom_reveal.css\n",
      "    /cvmfs/cybergis.illinois.edu/software/conda/cybergisx/python3-0.9.0/share/jupyter/nbconvert/templates/rst/conf.json\n",
      "    /cvmfs/cybergis.illinois.edu/software/conda/cybergisx/python3-0.9.0/share/jupyter/nbconvert/templates/rst/index.rst.j2\n",
      "    /cvmfs/cybergis.illinois.edu/software/conda/cybergisx/python3-0.9.0/share/jupyter/nbconvert/templates/script/conf.json\n",
      "    /cvmfs/cybergis.illinois.edu/software/conda/cybergisx/python3-0.9.0/share/jupyter/nbconvert/templates/script/script.j2\n",
      "    /cvmfs/cybergis.illinois.edu/software/conda/cybergisx/python3-0.9.0/share/jupyter/nbconvert/templates/webpdf/conf.json\n",
      "    /cvmfs/cybergis.illinois.edu/software/conda/cybergisx/python3-0.9.0/share/jupyter/nbconvert/templates/webpdf/index.pdf.j2\n",
      "Proceed (Y/n)? "
     ]
    }
   ],
   "source": [
    "pip uninstall nbconvert"
   ]
  },
  {
   "cell_type": "code",
   "execution_count": null,
   "id": "3908ce4e-c105-4c08-af8a-30cebf2b641f",
   "metadata": {},
   "outputs": [],
   "source": [
    "pip install nbconvert"
   ]
  },
  {
   "cell_type": "code",
   "execution_count": 2,
   "id": "046c3999",
   "metadata": {},
   "outputs": [
    {
     "ename": "AttributeError",
     "evalue": "module 'guidance' has no attribute 'Program'",
     "output_type": "error",
     "traceback": [
      "\u001b[0;31m---------------------------------------------------------------------------\u001b[0m",
      "\u001b[0;31mAttributeError\u001b[0m                            Traceback (most recent call last)",
      "Input \u001b[0;32mIn [2]\u001b[0m, in \u001b[0;36m<cell line: 2>\u001b[0;34m()\u001b[0m\n\u001b[1;32m      1\u001b[0m \u001b[38;5;66;03m# load JupyterLab extension chapyter\u001b[39;00m\n\u001b[0;32m----> 2\u001b[0m get_ipython()\u001b[38;5;241m.\u001b[39mrun_line_magic(\u001b[38;5;124m'\u001b[39m\u001b[38;5;124mload_ext\u001b[39m\u001b[38;5;124m'\u001b[39m, \u001b[38;5;124m'\u001b[39m\u001b[38;5;124mchapyter\u001b[39m\u001b[38;5;124m'\u001b[39m)\n",
      "File \u001b[0;32m/cvmfs/cybergis.illinois.edu/software/conda/cybergisx/python3-0.9.0/lib/python3.8/site-packages/IPython/core/interactiveshell.py:2304\u001b[0m, in \u001b[0;36mInteractiveShell.run_line_magic\u001b[0;34m(self, magic_name, line, _stack_depth)\u001b[0m\n\u001b[1;32m   2302\u001b[0m     kwargs[\u001b[38;5;124m'\u001b[39m\u001b[38;5;124mlocal_ns\u001b[39m\u001b[38;5;124m'\u001b[39m] \u001b[38;5;241m=\u001b[39m \u001b[38;5;28mself\u001b[39m\u001b[38;5;241m.\u001b[39mget_local_scope(stack_depth)\n\u001b[1;32m   2303\u001b[0m \u001b[38;5;28;01mwith\u001b[39;00m \u001b[38;5;28mself\u001b[39m\u001b[38;5;241m.\u001b[39mbuiltin_trap:\n\u001b[0;32m-> 2304\u001b[0m     result \u001b[38;5;241m=\u001b[39m \u001b[43mfn\u001b[49m\u001b[43m(\u001b[49m\u001b[38;5;241;43m*\u001b[39;49m\u001b[43margs\u001b[49m\u001b[43m,\u001b[49m\u001b[43m \u001b[49m\u001b[38;5;241;43m*\u001b[39;49m\u001b[38;5;241;43m*\u001b[39;49m\u001b[43mkwargs\u001b[49m\u001b[43m)\u001b[49m\n\u001b[1;32m   2305\u001b[0m \u001b[38;5;28;01mreturn\u001b[39;00m result\n",
      "File \u001b[0;32m/cvmfs/cybergis.illinois.edu/software/conda/cybergisx/python3-0.9.0/lib/python3.8/site-packages/IPython/core/magics/extension.py:33\u001b[0m, in \u001b[0;36mExtensionMagics.load_ext\u001b[0;34m(self, module_str)\u001b[0m\n\u001b[1;32m     31\u001b[0m \u001b[38;5;28;01mif\u001b[39;00m \u001b[38;5;129;01mnot\u001b[39;00m module_str:\n\u001b[1;32m     32\u001b[0m     \u001b[38;5;28;01mraise\u001b[39;00m UsageError(\u001b[38;5;124m'\u001b[39m\u001b[38;5;124mMissing module name.\u001b[39m\u001b[38;5;124m'\u001b[39m)\n\u001b[0;32m---> 33\u001b[0m res \u001b[38;5;241m=\u001b[39m \u001b[38;5;28;43mself\u001b[39;49m\u001b[38;5;241;43m.\u001b[39;49m\u001b[43mshell\u001b[49m\u001b[38;5;241;43m.\u001b[39;49m\u001b[43mextension_manager\u001b[49m\u001b[38;5;241;43m.\u001b[39;49m\u001b[43mload_extension\u001b[49m\u001b[43m(\u001b[49m\u001b[43mmodule_str\u001b[49m\u001b[43m)\u001b[49m\n\u001b[1;32m     35\u001b[0m \u001b[38;5;28;01mif\u001b[39;00m res \u001b[38;5;241m==\u001b[39m \u001b[38;5;124m'\u001b[39m\u001b[38;5;124malready loaded\u001b[39m\u001b[38;5;124m'\u001b[39m:\n\u001b[1;32m     36\u001b[0m     \u001b[38;5;28mprint\u001b[39m(\u001b[38;5;124m\"\u001b[39m\u001b[38;5;124mThe \u001b[39m\u001b[38;5;132;01m%s\u001b[39;00m\u001b[38;5;124m extension is already loaded. To reload it, use:\u001b[39m\u001b[38;5;124m\"\u001b[39m \u001b[38;5;241m%\u001b[39m module_str)\n",
      "File \u001b[0;32m/cvmfs/cybergis.illinois.edu/software/conda/cybergisx/python3-0.9.0/lib/python3.8/site-packages/IPython/core/extensions.py:76\u001b[0m, in \u001b[0;36mExtensionManager.load_extension\u001b[0;34m(self, module_str)\u001b[0m\n\u001b[1;32m     69\u001b[0m \u001b[38;5;124;03m\"\"\"Load an IPython extension by its module name.\u001b[39;00m\n\u001b[1;32m     70\u001b[0m \n\u001b[1;32m     71\u001b[0m \u001b[38;5;124;03mReturns the string \"already loaded\" if the extension is already loaded,\u001b[39;00m\n\u001b[1;32m     72\u001b[0m \u001b[38;5;124;03m\"no load function\" if the module doesn't have a load_ipython_extension\u001b[39;00m\n\u001b[1;32m     73\u001b[0m \u001b[38;5;124;03mfunction, or None if it succeeded.\u001b[39;00m\n\u001b[1;32m     74\u001b[0m \u001b[38;5;124;03m\"\"\"\u001b[39;00m\n\u001b[1;32m     75\u001b[0m \u001b[38;5;28;01mtry\u001b[39;00m:\n\u001b[0;32m---> 76\u001b[0m     \u001b[38;5;28;01mreturn\u001b[39;00m \u001b[38;5;28;43mself\u001b[39;49m\u001b[38;5;241;43m.\u001b[39;49m\u001b[43m_load_extension\u001b[49m\u001b[43m(\u001b[49m\u001b[43mmodule_str\u001b[49m\u001b[43m)\u001b[49m\n\u001b[1;32m     77\u001b[0m \u001b[38;5;28;01mexcept\u001b[39;00m \u001b[38;5;167;01mModuleNotFoundError\u001b[39;00m:\n\u001b[1;32m     78\u001b[0m     \u001b[38;5;28;01mif\u001b[39;00m module_str \u001b[38;5;129;01min\u001b[39;00m BUILTINS_EXTS:\n",
      "File \u001b[0;32m/cvmfs/cybergis.illinois.edu/software/conda/cybergisx/python3-0.9.0/lib/python3.8/site-packages/IPython/core/extensions.py:99\u001b[0m, in \u001b[0;36mExtensionManager._load_extension\u001b[0;34m(self, module_str)\u001b[0m\n\u001b[1;32m     94\u001b[0m             \u001b[38;5;28mprint\u001b[39m((\u001b[38;5;124m\"\u001b[39m\u001b[38;5;124mLoading extensions from \u001b[39m\u001b[38;5;132;01m{dir}\u001b[39;00m\u001b[38;5;124m is deprecated. \u001b[39m\u001b[38;5;124m\"\u001b[39m\n\u001b[1;32m     95\u001b[0m                    \u001b[38;5;124m\"\u001b[39m\u001b[38;5;124mWe recommend managing extensions like any \u001b[39m\u001b[38;5;124m\"\u001b[39m\n\u001b[1;32m     96\u001b[0m                    \u001b[38;5;124m\"\u001b[39m\u001b[38;5;124mother Python packages, in site-packages.\u001b[39m\u001b[38;5;124m\"\u001b[39m)\u001b[38;5;241m.\u001b[39mformat(\n\u001b[1;32m     97\u001b[0m                   \u001b[38;5;28mdir\u001b[39m\u001b[38;5;241m=\u001b[39mcompress_user(\u001b[38;5;28mself\u001b[39m\u001b[38;5;241m.\u001b[39mipython_extension_dir)))\n\u001b[1;32m     98\u001b[0m mod \u001b[38;5;241m=\u001b[39m sys\u001b[38;5;241m.\u001b[39mmodules[module_str]\n\u001b[0;32m---> 99\u001b[0m \u001b[38;5;28;01mif\u001b[39;00m \u001b[38;5;28;43mself\u001b[39;49m\u001b[38;5;241;43m.\u001b[39;49m\u001b[43m_call_load_ipython_extension\u001b[49m\u001b[43m(\u001b[49m\u001b[43mmod\u001b[49m\u001b[43m)\u001b[49m:\n\u001b[1;32m    100\u001b[0m     \u001b[38;5;28mself\u001b[39m\u001b[38;5;241m.\u001b[39mloaded\u001b[38;5;241m.\u001b[39madd(module_str)\n\u001b[1;32m    101\u001b[0m \u001b[38;5;28;01melse\u001b[39;00m:\n",
      "File \u001b[0;32m/cvmfs/cybergis.illinois.edu/software/conda/cybergisx/python3-0.9.0/lib/python3.8/site-packages/IPython/core/extensions.py:151\u001b[0m, in \u001b[0;36mExtensionManager._call_load_ipython_extension\u001b[0;34m(self, mod)\u001b[0m\n\u001b[1;32m    149\u001b[0m \u001b[38;5;28;01mdef\u001b[39;00m \u001b[38;5;21m_call_load_ipython_extension\u001b[39m(\u001b[38;5;28mself\u001b[39m, mod):\n\u001b[1;32m    150\u001b[0m     \u001b[38;5;28;01mif\u001b[39;00m \u001b[38;5;28mhasattr\u001b[39m(mod, \u001b[38;5;124m'\u001b[39m\u001b[38;5;124mload_ipython_extension\u001b[39m\u001b[38;5;124m'\u001b[39m):\n\u001b[0;32m--> 151\u001b[0m         \u001b[43mmod\u001b[49m\u001b[38;5;241;43m.\u001b[39;49m\u001b[43mload_ipython_extension\u001b[49m\u001b[43m(\u001b[49m\u001b[38;5;28;43mself\u001b[39;49m\u001b[38;5;241;43m.\u001b[39;49m\u001b[43mshell\u001b[49m\u001b[43m)\u001b[49m\n\u001b[1;32m    152\u001b[0m         \u001b[38;5;28;01mreturn\u001b[39;00m \u001b[38;5;28;01mTrue\u001b[39;00m\n",
      "File \u001b[0;32m~/.local/python3-0.9.0/lib/python3.8/site-packages/chapyter/__init__.py:14\u001b[0m, in \u001b[0;36mload_ipython_extension\u001b[0;34m(ipython)\u001b[0m\n\u001b[1;32m     13\u001b[0m \u001b[38;5;28;01mdef\u001b[39;00m \u001b[38;5;21mload_ipython_extension\u001b[39m(ipython) \u001b[38;5;241m-\u001b[39m\u001b[38;5;241m>\u001b[39m \u001b[38;5;28;01mNone\u001b[39;00m:\n\u001b[0;32m---> 14\u001b[0m     \u001b[38;5;28;01mfrom\u001b[39;00m \u001b[38;5;21;01m.\u001b[39;00m\u001b[38;5;21;01mmagic\u001b[39;00m \u001b[38;5;28;01mimport\u001b[39;00m load_ipython_extension\n\u001b[1;32m     16\u001b[0m     load_ipython_extension(ipython)\n",
      "File \u001b[0;32m~/.local/python3-0.9.0/lib/python3.8/site-packages/chapyter/magic.py:25\u001b[0m, in \u001b[0;36m<module>\u001b[0;34m\u001b[0m\n\u001b[1;32m     22\u001b[0m \u001b[38;5;28;01mfrom\u001b[39;00m \u001b[38;5;21;01mtraitlets\u001b[39;00m \u001b[38;5;28;01mimport\u001b[39;00m Bool, Dict, Instance, Unicode, default, observe  \u001b[38;5;66;03m# noqa\u001b[39;00m\n\u001b[1;32m     23\u001b[0m \u001b[38;5;28;01mfrom\u001b[39;00m \u001b[38;5;21;01mtraitlets\u001b[39;00m\u001b[38;5;21;01m.\u001b[39;00m\u001b[38;5;21;01mconfig\u001b[39;00m\u001b[38;5;21;01m.\u001b[39;00m\u001b[38;5;21;01mloader\u001b[39;00m \u001b[38;5;28;01mimport\u001b[39;00m Config\n\u001b[0;32m---> 25\u001b[0m \u001b[38;5;28;01mfrom\u001b[39;00m \u001b[38;5;21;01m.\u001b[39;00m\u001b[38;5;21;01mprograms\u001b[39;00m \u001b[38;5;28;01mimport\u001b[39;00m (\n\u001b[1;32m     26\u001b[0m     _DEFAULT_CHATONLY_PROGRAM,\n\u001b[1;32m     27\u001b[0m     _DEFAULT_HISTORY_PROGRAM,\n\u001b[1;32m     28\u001b[0m     _DEFAULT_PROGRAM,\n\u001b[1;32m     29\u001b[0m     ChapyterAgentProgram,\n\u001b[1;32m     30\u001b[0m )\n\u001b[1;32m     32\u001b[0m logger \u001b[38;5;241m=\u001b[39m logging\u001b[38;5;241m.\u001b[39mgetLogger(\u001b[38;5;18m__name__\u001b[39m)\n\u001b[1;32m     34\u001b[0m _DEFAULT_PROGRAM_NAME \u001b[38;5;241m=\u001b[39m \u001b[38;5;124m\"\u001b[39m\u001b[38;5;124m_default\u001b[39m\u001b[38;5;124m\"\u001b[39m\n",
      "File \u001b[0;32m~/.local/python3-0.9.0/lib/python3.8/site-packages/chapyter/programs.py:16\u001b[0m, in \u001b[0;36m<module>\u001b[0;34m\u001b[0m\n\u001b[1;32m      6\u001b[0m \u001b[38;5;28;01mfrom\u001b[39;00m \u001b[38;5;21;01mIPython\u001b[39;00m\u001b[38;5;21;01m.\u001b[39;00m\u001b[38;5;21;01mcore\u001b[39;00m\u001b[38;5;21;01m.\u001b[39;00m\u001b[38;5;21;01minteractiveshell\u001b[39;00m \u001b[38;5;28;01mimport\u001b[39;00m InteractiveShell\n\u001b[1;32m      8\u001b[0m __all__ \u001b[38;5;241m=\u001b[39m [\n\u001b[1;32m      9\u001b[0m     \u001b[38;5;124m\"\u001b[39m\u001b[38;5;124mChapyterAgentProgram\u001b[39m\u001b[38;5;124m\"\u001b[39m,\n\u001b[1;32m     10\u001b[0m     \u001b[38;5;124m\"\u001b[39m\u001b[38;5;124m_DEFAULT_PROGRAM\u001b[39m\u001b[38;5;124m\"\u001b[39m,\n\u001b[1;32m     11\u001b[0m     \u001b[38;5;124m\"\u001b[39m\u001b[38;5;124m_DEFAULT_HISTORY_PROGRAM\u001b[39m\u001b[38;5;124m\"\u001b[39m,\n\u001b[1;32m     12\u001b[0m ]\n\u001b[1;32m     15\u001b[0m \u001b[38;5;129m@dataclasses\u001b[39m\u001b[38;5;241m.\u001b[39mdataclass\n\u001b[0;32m---> 16\u001b[0m \u001b[38;5;28;01mclass\u001b[39;00m \u001b[38;5;21;01mChapyterAgentProgram\u001b[39;00m:\n\u001b[1;32m     17\u001b[0m     guidance_program: guidance\u001b[38;5;241m.\u001b[39mProgram\n\u001b[1;32m     18\u001b[0m     pre_call_hooks: Optional[Dict[\u001b[38;5;28mstr\u001b[39m, Callable]]\n",
      "File \u001b[0;32m~/.local/python3-0.9.0/lib/python3.8/site-packages/chapyter/programs.py:17\u001b[0m, in \u001b[0;36mChapyterAgentProgram\u001b[0;34m()\u001b[0m\n\u001b[1;32m     15\u001b[0m \u001b[38;5;129m@dataclasses\u001b[39m\u001b[38;5;241m.\u001b[39mdataclass\n\u001b[1;32m     16\u001b[0m \u001b[38;5;28;01mclass\u001b[39;00m \u001b[38;5;21;01mChapyterAgentProgram\u001b[39;00m:\n\u001b[0;32m---> 17\u001b[0m     guidance_program: \u001b[43mguidance\u001b[49m\u001b[38;5;241;43m.\u001b[39;49m\u001b[43mProgram\u001b[49m\n\u001b[1;32m     18\u001b[0m     pre_call_hooks: Optional[Dict[\u001b[38;5;28mstr\u001b[39m, Callable]]\n\u001b[1;32m     19\u001b[0m     post_call_hooks: Optional[Dict[\u001b[38;5;28mstr\u001b[39m, Callable]]\n",
      "\u001b[0;31mAttributeError\u001b[0m: module 'guidance' has no attribute 'Program'"
     ]
    }
   ],
   "source": [
    "# load JupyterLab extension chapyter\n",
    "%load_ext chapyter"
   ]
  },
  {
   "cell_type": "code",
   "execution_count": 3,
   "id": "3c038cba-f4c9-41f4-b20e-572855768ce9",
   "metadata": {},
   "outputs": [
    {
     "name": "stdout",
     "output_type": "stream",
     "text": [
      "Requirement already satisfied: nbconvert in /opt/conda/lib/python3.9/site-packages (7.11.0)\n",
      "Requirement already satisfied: beautifulsoup4 in /opt/conda/lib/python3.9/site-packages (from nbconvert) (4.12.2)\n",
      "Requirement already satisfied: bleach!=5.0.0 in /opt/conda/lib/python3.9/site-packages (from nbconvert) (4.1.0)\n",
      "Requirement already satisfied: defusedxml in /opt/conda/lib/python3.9/site-packages (from nbconvert) (0.7.1)\n",
      "Requirement already satisfied: importlib-metadata>=3.6 in /opt/conda/lib/python3.9/site-packages (from nbconvert) (4.10.0)\n",
      "Requirement already satisfied: jinja2>=3.0 in /opt/conda/lib/python3.9/site-packages (from nbconvert) (3.0.3)\n",
      "Requirement already satisfied: jupyter-core>=4.7 in /opt/conda/lib/python3.9/site-packages (from nbconvert) (5.5.0)\n",
      "Requirement already satisfied: jupyterlab-pygments in /opt/conda/lib/python3.9/site-packages (from nbconvert) (0.1.2)\n",
      "Requirement already satisfied: markupsafe>=2.0 in /opt/conda/lib/python3.9/site-packages (from nbconvert) (2.0.1)\n",
      "Requirement already satisfied: mistune<4,>=2.0.3 in /opt/conda/lib/python3.9/site-packages (from nbconvert) (3.0.2)\n",
      "Requirement already satisfied: nbclient>=0.5.0 in /opt/conda/lib/python3.9/site-packages (from nbconvert) (0.5.9)\n",
      "Requirement already satisfied: nbformat>=5.7 in /opt/conda/lib/python3.9/site-packages (from nbconvert) (5.9.2)\n",
      "Requirement already satisfied: packaging in /opt/conda/lib/python3.9/site-packages (from nbconvert) (21.3)\n",
      "Requirement already satisfied: pandocfilters>=1.4.1 in /opt/conda/lib/python3.9/site-packages (from nbconvert) (1.5.0)\n",
      "Requirement already satisfied: pygments>=2.4.1 in /opt/conda/lib/python3.9/site-packages (from nbconvert) (2.11.2)\n",
      "Requirement already satisfied: tinycss2 in /opt/conda/lib/python3.9/site-packages (from nbconvert) (1.2.1)\n",
      "Requirement already satisfied: traitlets>=5.1 in /opt/conda/lib/python3.9/site-packages (from nbconvert) (5.14.0)\n",
      "Requirement already satisfied: six>=1.9.0 in /opt/conda/lib/python3.9/site-packages (from bleach!=5.0.0->nbconvert) (1.16.0)\n",
      "Requirement already satisfied: webencodings in /opt/conda/lib/python3.9/site-packages (from bleach!=5.0.0->nbconvert) (0.5.1)\n",
      "Requirement already satisfied: zipp>=0.5 in /opt/conda/lib/python3.9/site-packages (from importlib-metadata>=3.6->nbconvert) (3.7.0)\n",
      "Requirement already satisfied: platformdirs>=2.5 in /opt/conda/lib/python3.9/site-packages (from jupyter-core>=4.7->nbconvert) (2.5.1)\n",
      "Requirement already satisfied: jupyter-client>=6.1.5 in /opt/conda/lib/python3.9/site-packages (from nbclient>=0.5.0->nbconvert) (7.4.9)\n",
      "Requirement already satisfied: nest-asyncio in /opt/conda/lib/python3.9/site-packages (from nbclient>=0.5.0->nbconvert) (1.5.4)\n",
      "Requirement already satisfied: fastjsonschema in /opt/conda/lib/python3.9/site-packages (from nbformat>=5.7->nbconvert) (2.19.0)\n",
      "Requirement already satisfied: jsonschema>=2.6 in /opt/conda/lib/python3.9/site-packages (from nbformat>=5.7->nbconvert) (4.20.0)\n",
      "Requirement already satisfied: soupsieve>1.2 in /opt/conda/lib/python3.9/site-packages (from beautifulsoup4->nbconvert) (2.5)\n",
      "Requirement already satisfied: pyparsing!=3.0.5,>=2.0.2 in /opt/conda/lib/python3.9/site-packages (from packaging->nbconvert) (3.0.6)\n",
      "Requirement already satisfied: attrs>=22.2.0 in /opt/conda/lib/python3.9/site-packages (from jsonschema>=2.6->nbformat>=5.7->nbconvert) (23.1.0)\n",
      "Requirement already satisfied: jsonschema-specifications>=2023.03.6 in /opt/conda/lib/python3.9/site-packages (from jsonschema>=2.6->nbformat>=5.7->nbconvert) (2023.11.2)\n",
      "Requirement already satisfied: referencing>=0.28.4 in /opt/conda/lib/python3.9/site-packages (from jsonschema>=2.6->nbformat>=5.7->nbconvert) (0.31.1)\n",
      "Requirement already satisfied: rpds-py>=0.7.1 in /opt/conda/lib/python3.9/site-packages (from jsonschema>=2.6->nbformat>=5.7->nbconvert) (0.13.2)\n",
      "Requirement already satisfied: entrypoints in /opt/conda/lib/python3.9/site-packages (from jupyter-client>=6.1.5->nbclient>=0.5.0->nbconvert) (0.3)\n",
      "Requirement already satisfied: python-dateutil>=2.8.2 in /opt/conda/lib/python3.9/site-packages (from jupyter-client>=6.1.5->nbclient>=0.5.0->nbconvert) (2.8.2)\n",
      "Requirement already satisfied: pyzmq>=23.0 in /opt/conda/lib/python3.9/site-packages (from jupyter-client>=6.1.5->nbclient>=0.5.0->nbconvert) (25.1.1)\n",
      "Requirement already satisfied: tornado>=6.2 in /opt/conda/lib/python3.9/site-packages (from jupyter-client>=6.1.5->nbclient>=0.5.0->nbconvert) (6.4)\n"
     ]
    }
   ],
   "source": [
    "!pip install --upgrade nbconvert\n"
   ]
  },
  {
   "cell_type": "code",
   "execution_count": null,
   "id": "f1c44967",
   "metadata": {},
   "outputs": [],
   "source": [
    "# import required libraries\n",
    "import openai"
   ]
  },
  {
   "cell_type": "code",
   "execution_count": null,
   "id": "986bdf15",
   "metadata": {},
   "outputs": [],
   "source": [
    "# Your secret OpenAI API key\n",
    "# Put API key in notebook is not a safe way for secret key protection\n",
    "# Check Best Practices for API Key Safety:\n",
    "# https://help.openai.com/en/articles/5112595-best-practices-for-api-key-safety\n",
    "OPENAI_API_KEY = \"your_api_key_here\""
   ]
  },
  {
   "cell_type": "code",
   "execution_count": null,
   "id": "69c879ad",
   "metadata": {},
   "outputs": [],
   "source": [
    "# Check Chapyter(Magics) options\n",
    "%chapyter"
   ]
  },
  {
   "cell_type": "code",
   "execution_count": null,
   "id": "c4577c33-0ffb-43bc-9c3c-91f5f79e7a38",
   "metadata": {},
   "outputs": [],
   "source": [
    "!pip uninstall nbconvert\n",
    "!pip install nbconvert"
   ]
  },
  {
   "cell_type": "code",
   "execution_count": null,
   "id": "ab358bf7",
   "metadata": {},
   "outputs": [],
   "source": [
    "# chapyter setups\n",
    "\n",
    "# API key [required!]\n",
    "%chapyter openai_api_key=OPENAI_API_KEY \n",
    "\n",
    "# GPT model used\n",
    "# Check full models list\n",
    "# https://platform.openai.com/docs/models\n",
    "%chapyter openai_default_model=\"gpt-4-0613\""
   ]
  },
  {
   "cell_type": "code",
   "execution_count": null,
   "id": "cbb36898",
   "metadata": {},
   "outputs": [],
   "source": [
    "# Docstring of magic functions\n",
    "%%chat?"
   ]
  },
  {
   "cell_type": "code",
   "execution_count": null,
   "id": "5c1dd33c",
   "metadata": {},
   "outputs": [],
   "source": [
    "%%chat\n",
    "list all the files in the current directory"
   ]
  },
  {
   "cell_type": "markdown",
   "id": "f6efd8fc",
   "metadata": {},
   "source": [
    "##### `%%chat -m`: setting model to be use for this call"
   ]
  },
  {
   "cell_type": "code",
   "execution_count": null,
   "id": "61328b63",
   "metadata": {},
   "outputs": [],
   "source": [
    "%%chat -m gpt-3.5-turbo \n",
    "List all the files in the current folder"
   ]
  },
  {
   "cell_type": "markdown",
   "id": "aea2a97c",
   "metadata": {},
   "source": [
    "##### `%%chat -h`: adding execution history into the prompt"
   ]
  },
  {
   "cell_type": "code",
   "execution_count": null,
   "id": "50abc171",
   "metadata": {},
   "outputs": [],
   "source": [
    "%%chat -h\n",
    "Define functions for the code above:"
   ]
  },
  {
   "cell_type": "markdown",
   "id": "3054e51a",
   "metadata": {},
   "source": [
    "##### `%%chat -s` or `%%chat --safe`: invoking safe mode that won't execute the cells"
   ]
  },
  {
   "cell_type": "code",
   "execution_count": null,
   "id": "8c051d20",
   "metadata": {},
   "outputs": [],
   "source": [
    "%%chat -s\n",
    "list all the files in the current directory"
   ]
  },
  {
   "cell_type": "markdown",
   "id": "8e77ca6f",
   "metadata": {},
   "source": [
    "##### `%%chatonly`: chating in the regular way"
   ]
  },
  {
   "cell_type": "code",
   "execution_count": null,
   "id": "1e9e0623",
   "metadata": {},
   "outputs": [],
   "source": [
    "%%chatonly\n",
    "Is there a website I can find boundry file for each city in illinois state?"
   ]
  },
  {
   "cell_type": "markdown",
   "id": "9e6af844",
   "metadata": {},
   "source": [
    "**Note**: `chatonly -h` is not usable to know previous chatonly output since it's not an execution."
   ]
  },
  {
   "cell_type": "code",
   "execution_count": null,
   "id": "64479771",
   "metadata": {},
   "outputs": [],
   "source": [
    "%%chatonly -h\n",
    "Then, how can I download it?"
   ]
  },
  {
   "cell_type": "code",
   "execution_count": null,
   "id": "18576583",
   "metadata": {},
   "outputs": [],
   "source": [
    "%%chat -h\n",
    "Then, how can I download it?"
   ]
  },
  {
   "cell_type": "markdown",
   "id": "19f284c3",
   "metadata": {},
   "source": [
    "<a id='maps'></a>\n",
    "#### Generating Maps without Coding"
   ]
  },
  {
   "cell_type": "code",
   "execution_count": null,
   "id": "c32768c6",
   "metadata": {},
   "outputs": [],
   "source": [
    "%%chat\n",
    "list all the files in the data folder in the current directory"
   ]
  },
  {
   "cell_type": "code",
   "execution_count": null,
   "id": "210f4289",
   "metadata": {},
   "outputs": [],
   "source": [
    "%%chat\n",
    "data/Chicago.tif is raster data. GeoTIFF extends the TIFF image format by including geospatial context of the corresponding image. Load the data and visualize the raster data."
   ]
  },
  {
   "cell_type": "code",
   "execution_count": null,
   "id": "62651401",
   "metadata": {},
   "outputs": [],
   "source": [
    "%%chat\n",
    "data/Chicago_Community.geojson is vector data for chicago community. A GeoJson is a straight-forward format derived from Json. Load the data and visualize the vetor data in the map. "
   ]
  },
  {
   "cell_type": "code",
   "execution_count": null,
   "id": "6cda2bb3",
   "metadata": {},
   "outputs": [],
   "source": [
    "%%chat -h\n",
    "show the attribute for Chicago_Community data"
   ]
  },
  {
   "cell_type": "code",
   "execution_count": null,
   "id": "882121d4",
   "metadata": {},
   "outputs": [],
   "source": [
    "%%chat -h\n",
    "For Chicago_Community data, use folium to load a basemap first and center at chicago. Add vector data to the basemap, and show the community name when hover over the community area. community name is in vector data attribute \"community\"."
   ]
  },
  {
   "cell_type": "code",
   "execution_count": null,
   "id": "fa550769",
   "metadata": {},
   "outputs": [],
   "source": [
    "# Run this line at the first time to get chicago crime data in 2022\n",
    "! wget -P ./data/ https://data.cityofchicago.org/api/views/9hwr-2zxp/rows.csv"
   ]
  },
  {
   "cell_type": "code",
   "execution_count": null,
   "id": "0e428b28",
   "metadata": {},
   "outputs": [],
   "source": [
    "%%chat -h\n",
    "Use folium to load a basemap first and center at chicago. Load data/rows.csv as Chicago_Crimes_22. Drop rows without Latitude or Longitude column in Chicago_Crimes_22. Use folium to generate a heatmap for Chicago_Crimes_22 data and add to the basemap."
   ]
  },
  {
   "cell_type": "code",
   "execution_count": null,
   "id": "5ca3420e",
   "metadata": {},
   "outputs": [],
   "source": []
  }
 ],
 "metadata": {
  "kernelspec": {
   "display_name": "Python 3-0.9.0",
   "language": "python",
   "name": "python3-0.9.0"
  },
  "language_info": {
   "codemirror_mode": {
    "name": "ipython",
    "version": 3
   },
   "file_extension": ".py",
   "mimetype": "text/x-python",
   "name": "python",
   "nbconvert_exporter": "python",
   "pygments_lexer": "ipython3",
   "version": "3.8.12"
  }
 },
 "nbformat": 4,
 "nbformat_minor": 5
}
